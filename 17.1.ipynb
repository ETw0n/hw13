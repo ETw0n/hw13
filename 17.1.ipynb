{
 "cells": [
  {
   "cell_type": "code",
   "execution_count": 1,
   "id": "58af0827",
   "metadata": {},
   "outputs": [
    {
     "name": "stdout",
     "output_type": "stream",
     "text": [
      "\n",
      "Books for Author Deitel (Ordered by Title):\n",
      "('Android 6 for Programmers', '2016', '0134289366')\n",
      "('Android 6 for Programmers', '2016', '0134289366')\n",
      "('Android How to Program', '2017', '0134444302')\n",
      "('Android How to Program', '2017', '0134444302')\n",
      "('C How to Program', '2016', '0133976890')\n",
      "('C How to Program', '2016', '0133976890')\n",
      "('C++ How to Program', '2017', '0134448235')\n",
      "('C++ How to Program', '2017', '0134448235')\n",
      "('Internet & WWW How to Program', '2012', '0132151006')\n",
      "('Internet & WWW How to Program', '2012', '0132151006')\n",
      "('Internet & WWW How to Program', '2012', '0132151006')\n",
      "('Intro to Python for CS and DS', '2020', '0135404673')\n",
      "('Intro to Python for CS and DS', '2020', '0135404673')\n",
      "('Java How to Program', '2018', '0134743350')\n",
      "('Java How to Program', '2018', '0134743350')\n",
      "('Visual Basic 2012 How to Program', '2014', '0133406954')\n",
      "('Visual Basic 2012 How to Program', '2014', '0133406954')\n",
      "('Visual Basic 2012 How to Program', '2014', '0133406954')\n",
      "('Visual C# How to Program', '2017', '0134601548')\n",
      "('Visual C# How to Program', '2017', '0134601548')\n",
      "('Visual C++ How to Program', '2008', '0136151574')\n",
      "('Visual C++ How to Program', '2008', '0136151574')\n",
      "\n",
      "New title 'New Book' inserted for author 'Deitel'.\n"
     ]
    }
   ],
   "source": [
    "'''This program will ask you to (Books Database) In an IPython session, perform each of the following tasks on the  database from Section 17.2:\n",
    "Ethan Nguyen'''\n",
    "import sqlite3\n",
    "\n",
    "# Connect to the Books database\n",
    "connection = sqlite3.connect('books.db')\n",
    "\n",
    "# Task 3: Select all books for a specific author\n",
    "author_last_name = 'Deitel'  # Replace with the actual last name of the author\n",
    "query3 = f\"\"\"\n",
    "    SELECT titles.title, titles.copyright, titles.isbn\n",
    "    FROM titles\n",
    "    JOIN author_ISBN ON titles.isbn = author_ISBN.isbn\n",
    "    JOIN authors ON author_ISBN.id = authors.id\n",
    "    WHERE authors.last = '{author_last_name}'\n",
    "    ORDER BY titles.title ASC;\n",
    "\"\"\"\n",
    "result3 = connection.execute(query3).fetchall()\n",
    "print(f\"\\nBooks for Author {author_last_name} (Ordered by Title):\")\n",
    "for row in result3:\n",
    "    print(row)\n",
    "\n",
    "# Task 5: Insert a new title for an author\n",
    "new_title = 'New Book'\n",
    "new_copyright = '2024'\n",
    "new_isbn = 'ISBN1234567890'\n",
    "author_last_name_for_new_title = 'Deitel'  # Replace with the actual last name of the author\n",
    "# First, insert the new title into the titles table\n",
    "query5_1 = f\"INSERT INTO titles (isbn, title, edition, copyright) VALUES ('{new_isbn}', '{new_title}', 1, '{new_copyright}');\"\n",
    "connection.execute(query5_1)\n",
    "# Then, insert the corresponding author and ISBN into the author_ISBN table\n",
    "# Get the ID of the author you want to assign the new title to\n",
    "query5_2 = f\"SELECT id FROM authors WHERE last = '{author_last_name_for_new_title}';\"\n",
    "author_id = connection.execute(query5_2).fetchone()[0]\n",
    "# Use the obtained author ID and the ISBN of the new title to insert into author_ISBN\n",
    "query5_3 = f\"INSERT INTO author_ISBN (id, isbn) VALUES ({author_id}, '{new_isbn}');\"\n",
    "connection.execute(query5_3)\n",
    "print(f\"\\nNew title '{new_title}' inserted for author '{author_last_name_for_new_title}'.\")\n",
    "\n",
    "# Commit changes and close the connection\n",
    "connection.commit()\n",
    "connection.close()\n"
   ]
  },
  {
   "cell_type": "code",
   "execution_count": null,
   "id": "ceba36a3",
   "metadata": {},
   "outputs": [],
   "source": []
  }
 ],
 "metadata": {
  "kernelspec": {
   "display_name": "Python 3 (ipykernel)",
   "language": "python",
   "name": "python3"
  },
  "language_info": {
   "codemirror_mode": {
    "name": "ipython",
    "version": 3
   },
   "file_extension": ".py",
   "mimetype": "text/x-python",
   "name": "python",
   "nbconvert_exporter": "python",
   "pygments_lexer": "ipython3",
   "version": "3.11.5"
  }
 },
 "nbformat": 4,
 "nbformat_minor": 5
}
